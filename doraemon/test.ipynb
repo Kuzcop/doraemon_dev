{
 "cells": [
  {
   "cell_type": "code",
   "execution_count": null,
   "id": "d94af0ac",
   "metadata": {},
   "outputs": [],
   "source": [
    "from doraemon import *"
   ]
  }
 ],
 "metadata": {
  "kernelspec": {
   "display_name": "doraemon",
   "language": "python",
   "name": "python3"
  },
  "language_info": {
   "name": "python",
   "version": "3.10.18"
  }
 },
 "nbformat": 4,
 "nbformat_minor": 5
}
